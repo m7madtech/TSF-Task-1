{
 "cells": [
  {
   "cell_type": "markdown",
   "id": "70b52698",
   "metadata": {},
   "source": [
    "# Name: Mohamed Khaled Samir\n",
    "\n",
    "## Task- 01: Spark Foundation\n",
    "\n",
    "## Regression task as it involves just 2 variables"
   ]
  },
  {
   "cell_type": "code",
   "execution_count": 38,
   "id": "e631cd73",
   "metadata": {
    "scrolled": true
   },
   "outputs": [],
   "source": [
    "#Import Modules\n",
    "import pandas as pd\n",
    "import numpy as np\n",
    "import matplotlib.pyplot as plt\n",
    "from sklearn.linear_model import LinearRegression\n",
    "from sklearn.model_selection import train_test_split"
   ]
  },
  {
   "cell_type": "code",
   "execution_count": 42,
   "id": "cb403d2a",
   "metadata": {},
   "outputs": [
    {
     "data": {
      "text/html": [
       "<div>\n",
       "<style scoped>\n",
       "    .dataframe tbody tr th:only-of-type {\n",
       "        vertical-align: middle;\n",
       "    }\n",
       "\n",
       "    .dataframe tbody tr th {\n",
       "        vertical-align: top;\n",
       "    }\n",
       "\n",
       "    .dataframe thead th {\n",
       "        text-align: right;\n",
       "    }\n",
       "</style>\n",
       "<table border=\"1\" class=\"dataframe\">\n",
       "  <thead>\n",
       "    <tr style=\"text-align: right;\">\n",
       "      <th></th>\n",
       "      <th>Hours</th>\n",
       "      <th>Scores</th>\n",
       "    </tr>\n",
       "  </thead>\n",
       "  <tbody>\n",
       "    <tr>\n",
       "      <th>0</th>\n",
       "      <td>2.5</td>\n",
       "      <td>21</td>\n",
       "    </tr>\n",
       "    <tr>\n",
       "      <th>1</th>\n",
       "      <td>5.1</td>\n",
       "      <td>47</td>\n",
       "    </tr>\n",
       "    <tr>\n",
       "      <th>2</th>\n",
       "      <td>3.2</td>\n",
       "      <td>27</td>\n",
       "    </tr>\n",
       "    <tr>\n",
       "      <th>3</th>\n",
       "      <td>8.5</td>\n",
       "      <td>75</td>\n",
       "    </tr>\n",
       "    <tr>\n",
       "      <th>4</th>\n",
       "      <td>3.5</td>\n",
       "      <td>30</td>\n",
       "    </tr>\n",
       "  </tbody>\n",
       "</table>\n",
       "</div>"
      ],
      "text/plain": [
       "   Hours  Scores\n",
       "0    2.5      21\n",
       "1    5.1      47\n",
       "2    3.2      27\n",
       "3    8.5      75\n",
       "4    3.5      30"
      ]
     },
     "execution_count": 42,
     "metadata": {},
     "output_type": "execute_result"
    }
   ],
   "source": [
    "#Read Dataset\n",
    "student_score=pd.read_csv('student_scores.csv')\n",
    "\n",
    "student_score.head()"
   ]
  },
  {
   "cell_type": "code",
   "execution_count": 47,
   "id": "b6ed1856",
   "metadata": {},
   "outputs": [
    {
     "name": "stdout",
     "output_type": "stream",
     "text": [
      "[[2.5]\n",
      " [5.1]\n",
      " [3.2]\n",
      " [8.5]\n",
      " [3.5]]\n",
      "[[21]\n",
      " [47]\n",
      " [27]\n",
      " [75]\n",
      " [30]]\n"
     ]
    }
   ],
   "source": [
    "#Select x and y from data\n",
    "y=student_score['Scores'].values.reshape(-1,1)\n",
    "x=student_score['Hours'].values.reshape(-1,1)\n",
    "\n",
    "print(x[:5])\n",
    "print(y[:5])"
   ]
  },
  {
   "cell_type": "code",
   "execution_count": 48,
   "id": "478e0a97",
   "metadata": {},
   "outputs": [
    {
     "data": {
      "image/png": "[encoded data removed]",
      "text/plain": [
       "<Figure size 432x288 with 1 Axes>"
      ]
     },
     "metadata": {
      "needs_background": "light"
     },
     "output_type": "display_data"
    }
   ],
   "source": [
    "#Draw a Scatter Plot \n",
    "plt.scatter(x , y)\n",
    "plt.xlabel('Hours')\n",
    "plt.ylabel('Scores')\n",
    "plt.show()"
   ]
  },
  {
   "cell_type": "code",
   "execution_count": 101,
   "id": "4688fc4d",
   "metadata": {
    "scrolled": true
   },
   "outputs": [
    {
     "name": "stdout",
     "output_type": "stream",
     "text": [
      "0.9516536821574558\n",
      "0.8972223905569089\n"
     ]
    }
   ],
   "source": [
    "#train and test \n",
    "x_train , x_test , y_train , y_test = train_test_split(x , y , test_size=0.20 , random_state= 8)\n",
    "\n",
    "reg= LinearRegression()\n",
    "reg.fit(x_train,y_train)\n",
    "\n",
    "print(reg.score(x_train,y_train))\n",
    "print(reg.score(x_test,y_test))"
   ]
  },
  {
   "cell_type": "code",
   "execution_count": 89,
   "id": "9cda2c9b",
   "metadata": {},
   "outputs": [
    {
     "data": {
      "image/png": "[encoded data removed]",
      "text/plain": [
       "<Figure size 432x288 with 1 Axes>"
      ]
     },
     "metadata": {
      "needs_background": "light"
     },
     "output_type": "display_data"
    }
   ],
   "source": [
    "#Draw Linear Regression\n",
    "line= reg.coef_*x+reg.intercept_\n",
    "\n",
    "plt.scatter(x_train , y_train)\n",
    "plt.scatter(x_test , y_test , color = 'red')\n",
    "plt.plot(x , line)\n",
    "plt.xlabel('Hours')\n",
    "plt.ylabel('Scores')\n",
    "plt.show()"
   ]
  },
  {
   "cell_type": "code",
   "execution_count": 105,
   "id": "c29a7138",
   "metadata": {},
   "outputs": [
    {
     "data": {
      "text/plain": [
       "<matplotlib.legend.Legend at 0x19531f93340>"
      ]
     },
     "execution_count": 105,
     "metadata": {},
     "output_type": "execute_result"
    },
    {
     "data": {
      "image/png": "[encoded data removed]",
      "text/plain": [
       "<Figure size 432x288 with 1 Axes>"
      ]
     },
     "metadata": {
      "needs_background": "light"
     },
     "output_type": "display_data"
    }
   ],
   "source": [
    "#visualisation between Actual and Predect\n",
    "plt.hist(reg.predict(x),histtype='step' ,label='Machine Predict', bins=25)\n",
    "plt.hist(y,histtype='step' ,label='Actual', bins=25)\n",
    "plt.legend()"
   ]
  },
  {
   "cell_type": "code",
   "execution_count": 104,
   "id": "26e4cd95",
   "metadata": {},
   "outputs": [
    {
     "name": "stdout",
     "output_type": "stream",
     "text": [
      "Hours = [9.25]\n",
      "Predicted Score = [92.57201837]\n"
     ]
    }
   ],
   "source": [
    "#Predicted Score if a student studies for 9.25 hrs\n",
    "hours = 9.25\n",
    "hours= np.reshape(hours,(1,-1))\n",
    "my_predict=reg.predict(hours)\n",
    "print(\"Hours = \"+str(hours[0]))\n",
    "print(\"Predicted Score = \"+str(my_predict[0]))"
   ]
  },
  {
   "cell_type": "code",
   "execution_count": 106,
   "id": "31a4f34b",
   "metadata": {},
   "outputs": [
    {
     "name": "stdout",
     "output_type": "stream",
     "text": [
      "Mean Absolute error = 5.378997042008352\n"
     ]
    }
   ],
   "source": [
    "#Model Evaluation\n",
    "from sklearn import metrics\n",
    "print(\"Mean Absolute error = \"+str(metrics.mean_absolute_error(y_test,reg.predict(x_test))))"
   ]
  },
  {
   "cell_type": "markdown",
   "id": "3beea4cd",
   "metadata": {},
   "source": [
    "# Thanks"
   ]
  }
 ],
 "metadata": {
  "kernelspec": {
   "display_name": "Python 3",
   "language": "python",
   "name": "python3"
  },
  "language_info": {
   "codemirror_mode": {
    "name": "ipython",
    "version": 3
   },
   "file_extension": ".py",
   "mimetype": "text/x-python",
   "name": "python",
   "nbconvert_exporter": "python",
   "pygments_lexer": "ipython3",
   "version": "3.8.8"
  }
 },
 "nbformat": 4,
 "nbformat_minor": 5
}
